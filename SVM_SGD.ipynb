{
 "cells": [
  {
   "cell_type": "code",
   "execution_count": 15,
   "metadata": {},
   "outputs": [
    {
     "name": "stderr",
     "output_type": "stream",
     "text": [
      "/home/shubham/anaconda3/lib/python3.6/site-packages/matplotlib/cbook/deprecation.py:107: MatplotlibDeprecationWarning: Adding an axes using the same arguments as a previous axes currently reuses the earlier instance.  In a future version, a new instance will always be created and returned.  Meanwhile, this warning can be suppressed, and the future behavior ensured, by passing a unique label to each axes instance.\n",
      "  warnings.warn(message, mplDeprecation, stacklevel=1)\n"
     ]
    },
    {
     "data": {
      "image/png": "[encoded data removed]",
      "text/plain": [
       "<Figure size 432x288 with 1 Axes>"
      ]
     },
     "metadata": {},
     "output_type": "display_data"
    },
    {
     "data": {
      "text/plain": [
       "<matplotlib.quiver.Quiver at 0x7f4b7c122f98>"
      ]
     },
     "execution_count": 15,
     "metadata": {},
     "output_type": "execute_result"
    },
    {
     "data": {
      "image/png": "[encoded data removed]",
      "text/plain": [
       "<Figure size 432x288 with 1 Axes>"
      ]
     },
     "metadata": {},
     "output_type": "display_data"
    }
   ],
   "source": [
    "import numpy as np\n",
    "from matplotlib import pyplot as plt\n",
    "%matplotlib inline\n",
    "\n",
    "def svm_sgd_plot(X,Y):\n",
    "    w=np.zeros(len(X[0]))\n",
    "    eta=1\n",
    "    epochs=100000\n",
    "    errors=[]\n",
    "    for epoch in range(1,epochs):\n",
    "        error=0\n",
    "        for i, x in enumerate(X):\n",
    "            if (Y[i]*np.dot(X[i],w)) < 1:\n",
    "                w=w+eta*((X[i]*Y[i])+(-2 *(1/epochs)*w))\n",
    "                error=1\n",
    "            else:\n",
    "                w=w+ eta*(-2*(1/epoch)*w)\n",
    "        errors.append(error)\n",
    "        \n",
    "    plt.plot(errors,'|')\n",
    "    plt.ylim(0.5,1.5)\n",
    "    plt.axes().set_yticklabels([])\n",
    "    plt.xlabel('Epoch')\n",
    "    plt.ylabel('Misclassified')\n",
    "    plt.show()\n",
    "\n",
    "    return w  \n",
    "X=np.array([\n",
    "    [-2,4,-1],\n",
    "    [4,1,-1],\n",
    "    [1,6,-1],\n",
    "    [2,4,-1],\n",
    "    [6,2,-1],\n",
    "])\n",
    "\n",
    "y=np.array([-1,-1,1,1,1])\n",
    "w=svm_sgd_plot(X,y)\n",
    "\n",
    "for d, sample in enumerate(X):\n",
    "    if d<2:\n",
    "        plt.scatter(sample[0],sample[1],s=120,marker='_',linewidths=2)\n",
    "    else:\n",
    "        plt.scatter(sample[0],sample[1],s=120,marker='+',linewidths=2)\n",
    "\n",
    "#plt.plot([-2,6],[6,0.5])\n",
    "\n",
    "\n",
    "plt.scatter(2,2,s=120,marker='_',linewidths=2,color='yellow')\n",
    "plt.scatter(4,3,s=120,marker='+',linewidths=2,color='blue')\n",
    "\n",
    "x2=[w[0],w[1],-w[1],w[0]]\n",
    "x3=[w[0],w[1],w[1],-w[0]]\n",
    "x2x3=np.array([x2,x3])\n",
    "X,Y,U,V=zip(*x2x3)\n",
    "ax=plt.gca()\n",
    "ax.quiver(X,Y,U,V,scale=1,color='blue')\n",
    "\n"
   ]
  },
  {
   "cell_type": "code",
   "execution_count": 3,
   "metadata": {},
   "outputs": [],
   "source": [
    "\n",
    "        \n",
    "        \n",
    "        \n",
    "    "
   ]
  }
 ],
 "metadata": {
  "kernelspec": {
   "display_name": "Python 3",
   "language": "python",
   "name": "python3"
  },
  "language_info": {
   "codemirror_mode": {
    "name": "ipython",
    "version": 3
   },
   "file_extension": ".py",
   "mimetype": "text/x-python",
   "name": "python",
   "nbconvert_exporter": "python",
   "pygments_lexer": "ipython3",
   "version": "3.6.5"
  }
 },
 "nbformat": 4,
 "nbformat_minor": 2
}
